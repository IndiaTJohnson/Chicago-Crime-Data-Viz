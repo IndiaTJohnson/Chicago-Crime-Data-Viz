{
 "cells": [
  {
   "cell_type": "code",
   "execution_count": null,
   "id": "66e35dcc-ebf5-46c6-b15b-40696c897ec3",
   "metadata": {},
   "outputs": [],
   "source": [
    "#Shift+tab = documentation\n",
    "#Tab = Auto-complete\n",
    "#Start at Preparing Non-Uniform Time Data"
   ]
  },
  {
   "cell_type": "code",
   "execution_count": 1,
   "id": "85100858-e5a0-45cf-a880-470ff6aa3cf4",
   "metadata": {},
   "outputs": [],
   "source": [
    "import pandas as pd\n",
    "import numpy as np\n",
    "import matplotlib as mpl\n",
    "import matplotlib.pyplot as plt\n",
    "import seaborn as sns\n",
    "import os\n",
    "#import tick customization tools\n",
    "import matplotlib.ticker as mticks\n",
    "import matplotlib.dates as mdates\n",
    "## Setting figures to timeseries-friendly\n",
    "plt.rcParams['figure.figsize'] = (12,4)\n",
    "plt.rcParams['figure.facecolor'] = 'white'\n",
    "sns.set_context(\"talk\", font_scale=0.9)\n",
    "# set random seed\n",
    "SEED = 321\n",
    "np.random.seed(SEED)\n",
    "#display more columns\n",
    "pd.set_option('display.max_columns',50)\n",
    "\n"
   ]
  },
  {
   "cell_type": "code",
   "execution_count": 6,
   "id": "25b16ab3-15fc-4c37-ac03-f523d1f77a58",
   "metadata": {},
   "outputs": [
    {
     "name": "stdout",
     "output_type": "stream",
     "text": [
      "<class 'pandas.core.frame.DataFrame'>\n",
      "RangeIndex: 587673 entries, 0 to 587672\n",
      "Data columns (total 23 columns):\n",
      " #   Column           Non-Null Count   Dtype  \n",
      "---  ------           --------------   -----  \n",
      " 0   X                586689 non-null  float64\n",
      " 1   Y                586689 non-null  float64\n",
      " 2   RowID            587673 non-null  int64  \n",
      " 3   CCNumber         587673 non-null  object \n",
      " 4   CrimeDateTime    587673 non-null  object \n",
      " 5   CrimeCode        587673 non-null  object \n",
      " 6   Description      587673 non-null  object \n",
      " 7   Inside_Outside   536412 non-null  object \n",
      " 8   Weapon           145090 non-null  object \n",
      " 9   Post             579693 non-null  object \n",
      " 10  Gender           493050 non-null  object \n",
      " 11  Age              473013 non-null  float64\n",
      " 12  Race             567987 non-null  object \n",
      " 13  Ethnicity        61611 non-null   object \n",
      " 14  Location         584616 non-null  object \n",
      " 15  Old_District     563488 non-null  object \n",
      " 16  New_District     16201 non-null   object \n",
      " 17  Neighborhood     579522 non-null  object \n",
      " 18  Latitude         586689 non-null  float64\n",
      " 19  Longitude        586689 non-null  float64\n",
      " 20  GeoLocation      587673 non-null  object \n",
      " 21  PremiseType      536076 non-null  object \n",
      " 22  Total_Incidents  587673 non-null  int64  \n",
      "dtypes: float64(5), int64(2), object(16)\n",
      "memory usage: 103.1+ MB\n"
     ]
    },
    {
     "data": {
      "text/html": [
       "<div>\n",
       "<style scoped>\n",
       "    .dataframe tbody tr th:only-of-type {\n",
       "        vertical-align: middle;\n",
       "    }\n",
       "\n",
       "    .dataframe tbody tr th {\n",
       "        vertical-align: top;\n",
       "    }\n",
       "\n",
       "    .dataframe thead th {\n",
       "        text-align: right;\n",
       "    }\n",
       "</style>\n",
       "<table border=\"1\" class=\"dataframe\">\n",
       "  <thead>\n",
       "    <tr style=\"text-align: right;\">\n",
       "      <th></th>\n",
       "      <th>X</th>\n",
       "      <th>Y</th>\n",
       "      <th>RowID</th>\n",
       "      <th>CCNumber</th>\n",
       "      <th>CrimeDateTime</th>\n",
       "      <th>CrimeCode</th>\n",
       "      <th>Description</th>\n",
       "      <th>Inside_Outside</th>\n",
       "      <th>Weapon</th>\n",
       "      <th>Post</th>\n",
       "      <th>Gender</th>\n",
       "      <th>Age</th>\n",
       "      <th>Race</th>\n",
       "      <th>Ethnicity</th>\n",
       "      <th>Location</th>\n",
       "      <th>Old_District</th>\n",
       "      <th>New_District</th>\n",
       "      <th>Neighborhood</th>\n",
       "      <th>Latitude</th>\n",
       "      <th>Longitude</th>\n",
       "      <th>GeoLocation</th>\n",
       "      <th>PremiseType</th>\n",
       "      <th>Total_Incidents</th>\n",
       "    </tr>\n",
       "  </thead>\n",
       "  <tbody>\n",
       "    <tr>\n",
       "      <th>0</th>\n",
       "      <td>-76.584281</td>\n",
       "      <td>39.282869</td>\n",
       "      <td>1</td>\n",
       "      <td>12A01562</td>\n",
       "      <td>2011/12/30 09:37:00+00</td>\n",
       "      <td>6E</td>\n",
       "      <td>LARCENY</td>\n",
       "      <td>I</td>\n",
       "      <td>NaN</td>\n",
       "      <td>214</td>\n",
       "      <td>M</td>\n",
       "      <td>42.0</td>\n",
       "      <td>UNKNOWN</td>\n",
       "      <td>NaN</td>\n",
       "      <td>2300 BOSTON ST</td>\n",
       "      <td>SOUTHEAST</td>\n",
       "      <td>NaN</td>\n",
       "      <td>CANTON</td>\n",
       "      <td>39.282869</td>\n",
       "      <td>-76.584281</td>\n",
       "      <td>(39.282869,-76.584281)</td>\n",
       "      <td>GARAGE ON PRIV. PROP</td>\n",
       "      <td>1</td>\n",
       "    </tr>\n",
       "    <tr>\n",
       "      <th>1</th>\n",
       "      <td>-76.570626</td>\n",
       "      <td>39.367758</td>\n",
       "      <td>2</td>\n",
       "      <td>11L12669</td>\n",
       "      <td>2011/12/30 00:36:00+00</td>\n",
       "      <td>3JF</td>\n",
       "      <td>ROBBERY</td>\n",
       "      <td>I</td>\n",
       "      <td>FIREARM</td>\n",
       "      <td>423</td>\n",
       "      <td>M</td>\n",
       "      <td>22.0</td>\n",
       "      <td>BLACK_OR_AFRICAN_AMERICAN</td>\n",
       "      <td>NaN</td>\n",
       "      <td>6600 MOONFLOWER CT</td>\n",
       "      <td>NORTHEAST</td>\n",
       "      <td>NaN</td>\n",
       "      <td>HAMILTON HILLS</td>\n",
       "      <td>39.367758</td>\n",
       "      <td>-76.570626</td>\n",
       "      <td>(39.367758,-76.570626)</td>\n",
       "      <td>ROW/TOWNHOUSE-OCC</td>\n",
       "      <td>1</td>\n",
       "    </tr>\n",
       "    <tr>\n",
       "      <th>2</th>\n",
       "      <td>-76.562701</td>\n",
       "      <td>39.323386</td>\n",
       "      <td>3</td>\n",
       "      <td>11L13076</td>\n",
       "      <td>2011/12/30 21:00:00+00</td>\n",
       "      <td>3AO</td>\n",
       "      <td>ROBBERY</td>\n",
       "      <td>O</td>\n",
       "      <td>OTHER</td>\n",
       "      <td>432</td>\n",
       "      <td>M</td>\n",
       "      <td>NaN</td>\n",
       "      <td>WHITE</td>\n",
       "      <td>NaN</td>\n",
       "      <td>3400 SHANNON DR</td>\n",
       "      <td>NORTHEAST</td>\n",
       "      <td>NaN</td>\n",
       "      <td>BELAIR-EDISON</td>\n",
       "      <td>39.323386</td>\n",
       "      <td>-76.562701</td>\n",
       "      <td>(39.323386,-76.562701)</td>\n",
       "      <td>ALLEY</td>\n",
       "      <td>1</td>\n",
       "    </tr>\n",
       "    <tr>\n",
       "      <th>3</th>\n",
       "      <td>-76.602909</td>\n",
       "      <td>39.232993</td>\n",
       "      <td>4</td>\n",
       "      <td>12A00628</td>\n",
       "      <td>2011/12/30 09:00:00+00</td>\n",
       "      <td>5A</td>\n",
       "      <td>BURGLARY</td>\n",
       "      <td>I</td>\n",
       "      <td>NaN</td>\n",
       "      <td>913</td>\n",
       "      <td>F</td>\n",
       "      <td>28.0</td>\n",
       "      <td>WHITE</td>\n",
       "      <td>NaN</td>\n",
       "      <td>600 E JEFFREY ST</td>\n",
       "      <td>SOUTHERN</td>\n",
       "      <td>NaN</td>\n",
       "      <td>BROOKLYN</td>\n",
       "      <td>39.232993</td>\n",
       "      <td>-76.602909</td>\n",
       "      <td>(39.232993,-76.602909)</td>\n",
       "      <td>ROW/TOWNHOUSE-OCC</td>\n",
       "      <td>1</td>\n",
       "    </tr>\n",
       "    <tr>\n",
       "      <th>4</th>\n",
       "      <td>-76.576114</td>\n",
       "      <td>39.292284</td>\n",
       "      <td>5</td>\n",
       "      <td>11L13140</td>\n",
       "      <td>2011/12/30 00:13:00+00</td>\n",
       "      <td>4C</td>\n",
       "      <td>AGG. ASSAULT</td>\n",
       "      <td>O</td>\n",
       "      <td>OTHER</td>\n",
       "      <td>222</td>\n",
       "      <td>M</td>\n",
       "      <td>21.0</td>\n",
       "      <td>BLACK_OR_AFRICAN_AMERICAN</td>\n",
       "      <td>NaN</td>\n",
       "      <td>2900 E BALTIMORE ST</td>\n",
       "      <td>SOUTHEAST</td>\n",
       "      <td>NaN</td>\n",
       "      <td>PATTERSON PARK NEIGHBORHOOD</td>\n",
       "      <td>39.292284</td>\n",
       "      <td>-76.576114</td>\n",
       "      <td>(39.292284,-76.576114)</td>\n",
       "      <td>STREET</td>\n",
       "      <td>1</td>\n",
       "    </tr>\n",
       "  </tbody>\n",
       "</table>\n",
       "</div>"
      ],
      "text/plain": [
       "           X          Y  RowID  CCNumber           CrimeDateTime CrimeCode  \\\n",
       "0 -76.584281  39.282869      1  12A01562  2011/12/30 09:37:00+00        6E   \n",
       "1 -76.570626  39.367758      2  11L12669  2011/12/30 00:36:00+00       3JF   \n",
       "2 -76.562701  39.323386      3  11L13076  2011/12/30 21:00:00+00       3AO   \n",
       "3 -76.602909  39.232993      4  12A00628  2011/12/30 09:00:00+00        5A   \n",
       "4 -76.576114  39.292284      5  11L13140  2011/12/30 00:13:00+00        4C   \n",
       "\n",
       "    Description Inside_Outside   Weapon Post Gender   Age  \\\n",
       "0       LARCENY              I      NaN  214      M  42.0   \n",
       "1       ROBBERY              I  FIREARM  423      M  22.0   \n",
       "2       ROBBERY              O    OTHER  432      M   NaN   \n",
       "3      BURGLARY              I      NaN  913      F  28.0   \n",
       "4  AGG. ASSAULT              O    OTHER  222      M  21.0   \n",
       "\n",
       "                        Race Ethnicity             Location Old_District  \\\n",
       "0                    UNKNOWN       NaN       2300 BOSTON ST    SOUTHEAST   \n",
       "1  BLACK_OR_AFRICAN_AMERICAN       NaN   6600 MOONFLOWER CT    NORTHEAST   \n",
       "2                      WHITE       NaN      3400 SHANNON DR    NORTHEAST   \n",
       "3                      WHITE       NaN     600 E JEFFREY ST     SOUTHERN   \n",
       "4  BLACK_OR_AFRICAN_AMERICAN       NaN  2900 E BALTIMORE ST    SOUTHEAST   \n",
       "\n",
       "  New_District                 Neighborhood   Latitude  Longitude  \\\n",
       "0          NaN                       CANTON  39.282869 -76.584281   \n",
       "1          NaN               HAMILTON HILLS  39.367758 -76.570626   \n",
       "2          NaN                BELAIR-EDISON  39.323386 -76.562701   \n",
       "3          NaN                     BROOKLYN  39.232993 -76.602909   \n",
       "4          NaN  PATTERSON PARK NEIGHBORHOOD  39.292284 -76.576114   \n",
       "\n",
       "              GeoLocation           PremiseType  Total_Incidents  \n",
       "0  (39.282869,-76.584281)  GARAGE ON PRIV. PROP                1  \n",
       "1  (39.367758,-76.570626)     ROW/TOWNHOUSE-OCC                1  \n",
       "2  (39.323386,-76.562701)                 ALLEY                1  \n",
       "3  (39.232993,-76.602909)     ROW/TOWNHOUSE-OCC                1  \n",
       "4  (39.292284,-76.576114)  STREET                              1  "
      ]
     },
     "execution_count": 6,
     "metadata": {},
     "output_type": "execute_result"
    }
   ],
   "source": [
    "df = pd.read_csv('Data/Part_1_Crime_Data.csv',low_memory=False)\n",
    "df.info()\n",
    "df.head()\n"
   ]
  },
  {
   "cell_type": "code",
   "execution_count": null,
   "id": "1292482c-e55b-44b3-96cd-ba3bffb1ba7f",
   "metadata": {},
   "outputs": [],
   "source": [
    "test_date = df.loc[0, 'CrimeDateTime']\n",
    "test_date\n",
    "\n"
   ]
  },
  {
   "cell_type": "code",
   "execution_count": null,
   "id": "e3971f41-3dbe-4f28-9bea-ca4a1ba4549a",
   "metadata": {},
   "outputs": [],
   "source": [
    "test_datetime = pd.to_datetime(test_date)\n",
    "test_datetime\n",
    "\n"
   ]
  },
  {
   "cell_type": "code",
   "execution_count": null,
   "id": "25f1e75b-a888-453e-a34e-43dc5dcf97fe",
   "metadata": {},
   "outputs": [],
   "source": [
    "#Will cause an error\n",
    "#df['CrimeDateTime'] = pd.to_datetime(df['CrimeDateTime'])\n",
    "\n"
   ]
  },
  {
   "cell_type": "code",
   "execution_count": null,
   "id": "660c6e18-96fb-4da6-94ff-237ee5ff861b",
   "metadata": {},
   "outputs": [],
   "source": [
    "df['CrimeDateTime'] = pd.to_datetime(df['CrimeDateTime'],errors='coerce')\n",
    "\n"
   ]
  },
  {
   "cell_type": "code",
   "execution_count": null,
   "id": "5918a766-16d9-4781-9634-c78eef238ccb",
   "metadata": {},
   "outputs": [],
   "source": [
    "# how many null values did we create?\n",
    "df['CrimeDateTime'].isna().sum()\n",
    "\n"
   ]
  },
  {
   "cell_type": "code",
   "execution_count": null,
   "id": "8a790258-aebd-4a5b-9faa-c2dcf5fa03fe",
   "metadata": {},
   "outputs": [],
   "source": [
    "# drop the single erroneous time\n",
    "df = df.dropna(subset=['CrimeDateTime'])\n",
    "df['CrimeDateTime'].isna().sum()\n",
    "\n"
   ]
  },
  {
   "cell_type": "code",
   "execution_count": null,
   "id": "fa2d6baa-137e-4d72-b4da-2566cad9b05b",
   "metadata": {},
   "outputs": [],
   "source": [
    "## now that we remove NaT's let's make our datetime index\n",
    "df = df.set_index('CrimeDateTime')\n",
    "df.head(3)\n"
   ]
  },
  {
   "cell_type": "code",
   "execution_count": null,
   "id": "fa2252bc-cc53-4b17-9223-737f576b4742",
   "metadata": {},
   "outputs": [],
   "source": [
    "df = df.sort_index()\n",
    "df.index\n",
    "\n"
   ]
  },
  {
   "cell_type": "code",
   "execution_count": null,
   "id": "80e40dde-ebb8-43ac-b630-a45129717296",
   "metadata": {},
   "outputs": [],
   "source": [
    "years = df.index.year\n",
    "years.value_counts().sort_index().plot(kind='bar');\n"
   ]
  },
  {
   "cell_type": "code",
   "execution_count": null,
   "id": "36d04677-f07b-40ff-bdd7-4221ec70d9ff",
   "metadata": {},
   "outputs": [],
   "source": [
    "## keeping 2011 to present\n",
    "df = df.loc['2011':]\n",
    "df.index\n",
    "\n"
   ]
  },
  {
   "cell_type": "code",
   "execution_count": null,
   "id": "a7bd511c-c9bb-4146-9712-87a6ec7bec21",
   "metadata": {},
   "outputs": [],
   "source": [
    "## Inspect the value_counts for the different types of crimes\n",
    "crime_counts = df['Description'].value_counts(normalize=True)\n",
    "crime_counts.sort_values().plot(kind='barh',figsize=(5,8))\n"
   ]
  },
  {
   "cell_type": "code",
   "execution_count": null,
   "id": "f84458b9-909d-47ea-8eb5-a82c18d05620",
   "metadata": {},
   "outputs": [],
   "source": [
    "## Inspect the value_counts for the different types of crimes\n",
    "crime_counts = df['Description'].value_counts().to_frame('Total # of Crimes')\n",
    "crime_counts\n"
   ]
  },
  {
   "cell_type": "code",
   "execution_count": null,
   "id": "ce801ba7-e498-4379-80df-ad5870fb399f",
   "metadata": {},
   "outputs": [],
   "source": [
    "# display with an inline-barplot inside your df\n",
    "crime_counts.style.bar('Total # of Crimes')\n"
   ]
  },
  {
   "cell_type": "code",
   "execution_count": null,
   "id": "20a6d215-401e-4c1c-bb93-41a884751f0b",
   "metadata": {},
   "outputs": [],
   "source": [
    "## demoing groupby with .counts() vs .size()\n",
    "df.groupby(\"Description\").count().head()\n",
    "\n"
   ]
  },
  {
   "cell_type": "code",
   "execution_count": null,
   "id": "abd6467c-5872-473a-b128-8a9df65d1dba",
   "metadata": {},
   "outputs": [],
   "source": [
    "df.groupby(\"Description\").size().head()\n",
    "\n"
   ]
  },
  {
   "cell_type": "code",
   "execution_count": null,
   "id": "bf8644b0-d37b-4a7e-9ce9-ed7aa068741e",
   "metadata": {},
   "outputs": [],
   "source": [
    "## making our dictionary \n",
    "CRIMES = {}\n",
    "\n"
   ]
  },
  {
   "cell_type": "code",
   "execution_count": null,
   "id": "5331af28-128b-449f-8370-d6f97d851c83",
   "metadata": {},
   "outputs": [],
   "source": [
    "## Lets test 1 crime before we create our loop\n",
    "crime ='ROBBERY'\n",
    "crime\n",
    "\n"
   ]
  },
  {
   "cell_type": "code",
   "execution_count": null,
   "id": "14ab7c96-987d-4a5b-83aa-5b3601ad2590",
   "metadata": {},
   "outputs": [],
   "source": [
    "# I. Save a temp df of just the rows that match the crime\n",
    "temp = df.loc[ df['Description']==crime]\n",
    "temp.head(3)\n"
   ]
  },
  {
   "cell_type": "code",
   "execution_count": null,
   "id": "9f8af9f3-5f3b-4c7d-92e9-795dc4d1e276",
   "metadata": {},
   "outputs": [],
   "source": [
    "# II. Resample the temp DataFrame as Daily data (crime counts)\n",
    "# and keep ONLY the .size()\n",
    "temp_res = temp.resample(\"D\").size()\n",
    "temp_res\n",
    "\n"
   ]
  },
  {
   "cell_type": "code",
   "execution_count": null,
   "id": "bb271002-b3bd-438e-b772-5779e4801071",
   "metadata": {},
   "outputs": [],
   "source": [
    "#III. Save the temporary DataFrame in the dictionary, #using the crime description as the key.\n",
    "CRIMES[crime] = temp_res.copy()\n",
    "CRIMES.keys()\n",
    "\n"
   ]
  },
  {
   "cell_type": "code",
   "execution_count": null,
   "id": "d56536f2-f5e1-4160-8614-e1c610dc6d61",
   "metadata": {},
   "outputs": [],
   "source": [
    "CRIMES['ROBBERY']\n",
    "\n"
   ]
  },
  {
   "cell_type": "code",
   "execution_count": null,
   "id": "c31c5392-053d-4a94-bb01-3ec6c21a3c27",
   "metadata": {},
   "outputs": [],
   "source": [
    "# 1. get list of  unique crime descriptions\n",
    "crime_list = df['Description'].unique()\n",
    "crime_list\n",
    "\n"
   ]
  },
  {
   "cell_type": "code",
   "execution_count": null,
   "id": "d2443e65-2838-4533-a9c1-66aa059c0a82",
   "metadata": {},
   "outputs": [],
   "source": [
    "# 2. Create an empty dictionary  \n",
    "CRIMES = {}\n",
    "# 3. Loop through the list of crimes\n",
    "for crime in crime_list:\n",
    "    # I. Save a temp df of just the rows that match the crime\n",
    "   temp = df.loc[ df['Description']==crime].copy()\n",
    "    # II. Resample the temp DataFrame as Daily data (crime counts) \n",
    "    # and keep ONLY the .size() \n",
    "   temp_res = temp.resample(\"D\").size() \n",
    "   #III. Save the temporary DataFrame in the dictionary,\n",
    "   #using the crime description as the key.\n",
    "   CRIMES[crime] = temp_res.copy() \n",
    "CRIMES.keys()\n",
    "\n"
   ]
  },
  {
   "cell_type": "code",
   "execution_count": null,
   "id": "f3cea3fb-ae0a-4cf0-8c20-9b1f2101647f",
   "metadata": {},
   "outputs": [],
   "source": [
    "CRIMES['SHOOTING']\n",
    "\n"
   ]
  },
  {
   "cell_type": "code",
   "execution_count": null,
   "id": "7a14926d-04ca-4918-a56c-a9b2c9b2c5a8",
   "metadata": {},
   "outputs": [],
   "source": [
    "crimes_df = pd.DataFrame(CRIMES)\n",
    "crimes_df\n",
    "\n"
   ]
  },
  {
   "cell_type": "code",
   "execution_count": null,
   "id": "a981ef2f-4b41-48c2-bcfc-8ab6aa411e0f",
   "metadata": {},
   "outputs": [],
   "source": [
    "## saving to disk for later\n",
    "crimes_df.to_csv(\"Data/Baltimore/baltimore_crime_counts_2023.csv\")\n"
   ]
  },
  {
   "cell_type": "code",
   "execution_count": null,
   "id": "92a662f0-a8e2-4a6e-b688-1d6f2730f952",
   "metadata": {},
   "outputs": [],
   "source": []
  },
  {
   "cell_type": "markdown",
   "id": "9a678dc9-e664-46b6-babf-5dad2349d161",
   "metadata": {},
   "source": [
    "# Timezones"
   ]
  },
  {
   "cell_type": "code",
   "execution_count": null,
   "id": "f0153632-c11c-4b89-b1ee-7e7b131885ca",
   "metadata": {},
   "outputs": [],
   "source": [
    "## testing our saved data\n",
    "df = pd.read_csv(\"Data/Baltimore/baltimore_crime_counts_2023.csv\", parse_dates=['CrimeDateTime'], index_col=0)\n"
   ]
  },
  {
   "cell_type": "code",
   "execution_count": null,
   "id": "bdf86df7-551e-4be4-bf52-c373e4fc1b6a",
   "metadata": {},
   "outputs": [],
   "source": [
    "## check our df.index\n",
    "df.index\n",
    "\n"
   ]
  },
  {
   "cell_type": "code",
   "execution_count": null,
   "id": "14ec6e89-7a8d-4aaa-a38e-1de7e8a42118",
   "metadata": {},
   "outputs": [],
   "source": [
    "df = df.resample('D').asfreq()\n",
    "df.head(3)\n"
   ]
  },
  {
   "cell_type": "code",
   "execution_count": null,
   "id": "1d9fc6e3-2689-4eb9-bfe2-a784057f9c02",
   "metadata": {},
   "outputs": [],
   "source": [
    "ts0 = df.index[0]\n",
    "ts0\n",
    "\n"
   ]
  },
  {
   "cell_type": "code",
   "execution_count": null,
   "id": "aa9931d8-3baf-4311-80f9-47025e29ed7f",
   "metadata": {},
   "outputs": [],
   "source": [
    "# checking the documentation for astimezone\n",
    "ts0.astimezone?\n",
    "\n"
   ]
  },
  {
   "cell_type": "code",
   "execution_count": null,
   "id": "49ed0f5b-2d89-43ab-97ff-17fa3e6806bb",
   "metadata": {},
   "outputs": [],
   "source": [
    "import pytz\n",
    "all_tzs = pytz.all_timezones\n",
    "len(all_tzs)\n",
    "\n"
   ]
  },
  {
   "cell_type": "code",
   "execution_count": null,
   "id": "e64a9284-0793-460a-a661-6efb6675ac07",
   "metadata": {},
   "outputs": [],
   "source": [
    "## getting just US timezones\n",
    "[tz for tz in all_tzs if tz.startswith('US')]\n",
    "\n"
   ]
  },
  {
   "cell_type": "code",
   "execution_count": null,
   "id": "bfacf46c-4206-4422-b614-22a5944b2b74",
   "metadata": {},
   "outputs": [],
   "source": [
    "## let's try converting to US Eastern\n",
    "ts0.astimezone('US/Eastern')\n"
   ]
  },
  {
   "cell_type": "code",
   "execution_count": null,
   "id": "100bda06-0eb6-45af-8dea-dd285eb6181a",
   "metadata": {},
   "outputs": [],
   "source": [
    "## Viewing original \n",
    "ts0\n",
    "\n"
   ]
  },
  {
   "cell_type": "code",
   "execution_count": null,
   "id": "0a451ebf-a0ad-4d09-8def-98568e07193c",
   "metadata": {},
   "outputs": [],
   "source": [
    "## let's try converting to US Pacific\n",
    "ts0.astimezone('US/Pacific')\n",
    "\n"
   ]
  },
  {
   "cell_type": "code",
   "execution_count": null,
   "id": "35db96b2-8762-4742-b0a9-371b6cb1e37a",
   "metadata": {},
   "outputs": [],
   "source": [
    "## remove time zone from the dt index\n",
    "df = df.tz_convert(None)\n",
    "df.head(3)\n",
    "\n"
   ]
  },
  {
   "cell_type": "code",
   "execution_count": null,
   "id": "8fe8d462-c4ea-415d-8a88-7fa75e89a87a",
   "metadata": {},
   "outputs": [],
   "source": []
  },
  {
   "cell_type": "markdown",
   "id": "8e906464-f2d6-4c07-8e38-bda655f73940",
   "metadata": {},
   "source": [
    "# Binning Time Series"
   ]
  },
  {
   "cell_type": "code",
   "execution_count": null,
   "id": "126ad713-7dc1-4573-ad26-5fe33265fa19",
   "metadata": {},
   "outputs": [],
   "source": [
    "# Set options\n",
    "pd.set_option('display.max_columns',100)\n",
    "# Customize figure style for stakeholder-facing visualizations\n",
    "plt.style.use(('ggplot','fivethirtyeight'))\n",
    "sns.set_context('notebook', font_scale=1.2)\n",
    "plt.rcParams['figure.figsize'] = (12,4)\n",
    "plt.rcParams['savefig.transparent'] = False\n",
    "plt.rcParams['savefig.bbox'] = 'tight'\n",
    "\n"
   ]
  },
  {
   "cell_type": "code",
   "execution_count": null,
   "id": "7007a596-909a-4b3a-997f-e95679f51163",
   "metadata": {},
   "outputs": [],
   "source": [
    "df = pd.read_csv(\"YOUR PATH TO ORIGINAL CRIME DATA HERE\",\n",
    "                 low_memory=False)\n",
    "## Converting crimedatetime and coercing errors\n",
    "df['CrimeDateTime'] = pd.to_datetime(df['CrimeDateTime'], errors='coerce')\n",
    "df = df.dropna(subset=['CrimeDateTime'])\n",
    "## setting and sorting the index\n",
    "df = df.set_index(\"CrimeDateTime\")\n",
    "df = df.sort_index()\n",
    "df.head(3)\n",
    "\n"
   ]
  },
  {
   "cell_type": "code",
   "execution_count": null,
   "id": "9e9f61bc-68c0-4a3d-b122-6dfbccae4771",
   "metadata": {},
   "outputs": [],
   "source": [
    "## baltimore is in eastern time zone,but can just use tz-naive index by choosing None\n",
    "df = df.tz_convert(None)\n",
    "df.head(3)\n",
    "\n"
   ]
  },
  {
   "cell_type": "code",
   "execution_count": null,
   "id": "f65bef40-08c6-413f-b182-ee6e5e86f333",
   "metadata": {},
   "outputs": [],
   "source": [
    "## Drop extra columns not needed\n",
    "drop_cols = ['RowID','CCNO','Post','GeoLocation', 'Location','Premise']\n",
    "df = df.drop(columns=drop_cols)\n",
    "df.info()\n",
    "\n"
   ]
  },
  {
   "cell_type": "code",
   "execution_count": null,
   "id": "86d7224b-fa13-4321-a019-65b9dfb9cb4f",
   "metadata": {},
   "outputs": [],
   "source": [
    "## saving just the date (no time) as a column\n",
    "df['Date'] = df.index.date\n",
    "# could also use .strftime + pd.to_datetime\n",
    "# df['Date'] = pd.to_datetime(df.index.strftime('%Y-%m-%d'))\n",
    "df.head(3)\n"
   ]
  },
  {
   "cell_type": "code",
   "execution_count": null,
   "id": "01d13fc3-9ad0-42d0-a60c-916582b02655",
   "metadata": {},
   "outputs": [],
   "source": [
    "## Engineering Features using components of the date/time\n",
    "df['Year']  = df.index.year\n",
    "\n"
   ]
  },
  {
   "cell_type": "code",
   "execution_count": null,
   "id": "44f10cb2-5b13-4250-af99-2ec1dfcdd57d",
   "metadata": {},
   "outputs": [],
   "source": [
    "## Visualize years\n",
    "ax = sns.countplot(data=df, x='Year')\n",
    "fig = ax.get_figure()\n",
    "fig.autofmt_xdate()\n",
    "\n"
   ]
  },
  {
   "cell_type": "code",
   "execution_count": null,
   "id": "ac2231d2-b777-4506-a4f4-e020fbc76ef3",
   "metadata": {},
   "outputs": [],
   "source": [
    "df['Year'].value_counts().sort_index(ascending = False).head(15)\n",
    "\n"
   ]
  },
  {
   "cell_type": "code",
   "execution_count": null,
   "id": "57fd09d5-0df9-40f5-a3d1-38b376dc6dd9",
   "metadata": {},
   "outputs": [],
   "source": [
    "## keeping data from yr 2011 to present\n",
    "df = df.loc['2011':'2022'].copy()\n",
    "\n"
   ]
  },
  {
   "cell_type": "code",
   "execution_count": null,
   "id": "da8250c3-8593-439c-8c8e-a243b775a17a",
   "metadata": {},
   "outputs": [],
   "source": [
    "## visualizing again with years removed\n",
    "sns.countplot(data=df, x='Year',palette='dark');\n",
    "\n"
   ]
  },
  {
   "cell_type": "code",
   "execution_count": null,
   "id": "f5032cd8-9ccc-4ef9-bf14-ef3d88b14433",
   "metadata": {},
   "outputs": [],
   "source": [
    "## save year counts\n",
    "year_counts = df['Year'].value_counts().sort_index()\n",
    "year_counts.plot(style='o-',grid=True,ylabel='# of Crimes', xlabel='Year');\n",
    "\n"
   ]
  },
  {
   "cell_type": "code",
   "execution_count": null,
   "id": "5b7e8149-863d-4a5b-a6ee-c877587cfa78",
   "metadata": {},
   "outputs": [],
   "source": [
    "## Extracting the Month\n",
    "df['Month'] = df.index.month\n",
    "df['MonthName'] = df.index.month_name()\n",
    "df.head(3)\n",
    "\n"
   ]
  },
  {
   "cell_type": "code",
   "execution_count": null,
   "id": "6831790e-adc2-4268-b255-90a1469bcbcb",
   "metadata": {},
   "outputs": [],
   "source": [
    "# saving lookup for number vs name\n",
    "unique_months = df.drop_duplicates(subset=['Month']).sort_values('Month')\n",
    "month_lookup =dict(zip(unique_months['Month'],unique_months['MonthName']))\n",
    "month_lookup\n",
    "\n"
   ]
  },
  {
   "cell_type": "code",
   "execution_count": null,
   "id": "34b22e0a-8a4c-4b8d-a157-2944911bf426",
   "metadata": {},
   "outputs": [],
   "source": [
    "ax = sns.countplot(data=df, x='MonthName',palette='dark',order=month_lookup.values());\n",
    "# Rotate xtick labels and align the text to the bar\n",
    "ax.set_xticklabels(ax.get_xticklabels(), rotation=45, ha='right');\n",
    "\n"
   ]
  },
  {
   "cell_type": "code",
   "execution_count": null,
   "id": "ff1ed2bf-fa4a-4713-890e-ecfa571c5fb6",
   "metadata": {},
   "outputs": [],
   "source": [
    "## save month counts\n",
    "month_counts = df['MonthName'].value_counts()[month_lookup.values()]\n",
    "# year_counts = df.groupby(\"Year\").size()\n",
    "ax = month_counts.plot(style='o-',grid=True,\n",
    "                       ylabel='# of Crimes',\n",
    "                       xlabel='Month');\n",
    "\n"
   ]
  },
  {
   "cell_type": "code",
   "execution_count": null,
   "id": "28e0d79b-b3c1-4a92-b797-26d03e271a60",
   "metadata": {},
   "outputs": [],
   "source": [
    "## adding day of week as both number & name\n",
    "df['DayOfWeek'] = df.index.day_name()\n",
    "df['DayNum'] = df.index.day_of_week\n",
    "df.head(3)\n",
    "\n"
   ]
  },
  {
   "cell_type": "code",
   "execution_count": null,
   "id": "47ede8ca-9078-41d4-9da7-207605392dc7",
   "metadata": {},
   "outputs": [],
   "source": [
    "# saving lookup for number vs named days\n",
    "unique_days = df.drop_duplicates(subset=['DayNum']).sort_values('DayNum')\n",
    "day_lookup =dict(zip(unique_days['DayNum'],unique_days['DayOfWeek']))\n",
    "day_lookup\n",
    "\n"
   ]
  },
  {
   "cell_type": "code",
   "execution_count": null,
   "id": "bc373555-d804-405b-bbb5-aa5c6e389a60",
   "metadata": {},
   "outputs": [],
   "source": [
    "## plot DayNum, but use names from day_lookup for ticks\n",
    "ax = sns.countplot(data=df, x='DayNum',palette='dark')\n",
    "ax.set_xticklabels([v =\"keyword from-rainbow\">for k,v in day_lookup.items()]);\n",
    "\n"
   ]
  },
  {
   "cell_type": "code",
   "execution_count": null,
   "id": "d98b3e67-732a-4167-ac6b-959dae7c8b21",
   "metadata": {},
   "outputs": [],
   "source": [
    "## save day counts\n",
    "day_counts = df['DayNum'].value_counts().sort_index()\n",
    "## now that its in order, rename using day_lookup\n",
    "day_counts = day_counts.rename(day_lookup)\n",
    "ax = day_counts.plot(style='o-',grid=True,ylabel='# of Crimes', xlabel='Day of Week')\n"
   ]
  },
  {
   "cell_type": "code",
   "execution_count": null,
   "id": "bf935487-0d01-4c87-aaab-428f7f820ce5",
   "metadata": {},
   "outputs": [],
   "source": [
    "df['Weekend'] = df['DayOfWeek'].isin(['Saturday','Sunday'])\n",
    "plt.figure(figsize=(8,4))\n",
    "sns.countplot(data=df, x='Weekend',palette='dark');\n",
    "\n"
   ]
  },
  {
   "cell_type": "code",
   "execution_count": null,
   "id": "6ce86d46-b83e-4e55-a22f-fd43adddcc29",
   "metadata": {},
   "outputs": [],
   "source": [
    "## calculating value counts and then dividing week days by 5 and weekend by 2\n",
    "weekend_counts = df[\"Weekend\"].value_counts()\n",
    "weekend_counts.loc[False] /= 5\n",
    "weekend_counts.loc[True] /= 2\n",
    "weekend_counts\n",
    "\n"
   ]
  },
  {
   "cell_type": "code",
   "execution_count": null,
   "id": "e44f0fed-ec21-4310-86b4-69bb8cd47102",
   "metadata": {},
   "outputs": [],
   "source": [
    "ax = weekend_counts.plot(kind='bar',figsize=(8,4))\n",
    "ax.set(ylabel='Crimes Per Day', xlabel='Is_Weekend');\n",
    "\n"
   ]
  },
  {
   "cell_type": "code",
   "execution_count": null,
   "id": "d357cba5-3f39-45b2-a5cf-e7b106a21d3a",
   "metadata": {},
   "outputs": [],
   "source": [
    "# adding hour of the day (12am=0) \n",
    "df['HourOfDay'] = df.index.hour \n",
    "sns.countplot(data=df, x='HourOfDay',palette='dark');\n",
    "\n"
   ]
  },
  {
   "cell_type": "code",
   "execution_count": null,
   "id": "a632bb07-9d7d-4ecd-8e9c-cc29c47399b1",
   "metadata": {},
   "outputs": [],
   "source": [
    "## save hour counts\n",
    "hour_counts = df['HourOfDay'].value_counts().sort_index()\n",
    "# year_counts = df.groupby(\"Year\").size()\n",
    "ax = hour_counts.plot(style='o-',grid=True,ylabel='# of Crimes', xlabel='Hour of Day',xticks=hour_counts.index);\n",
    "\n"
   ]
  },
  {
   "cell_type": "code",
   "execution_count": null,
   "id": "d245ff57-0682-499d-9a6b-cdf116e1a471",
   "metadata": {},
   "outputs": [],
   "source": []
  },
  {
   "cell_type": "markdown",
   "id": "6ab4e541-9dbf-4b92-93d7-6d746a975286",
   "metadata": {},
   "source": [
    "# Seasonality"
   ]
  },
  {
   "cell_type": "code",
   "execution_count": null,
   "id": "a515bb88-4809-48f2-ad52-ad543e1bd5f8",
   "metadata": {},
   "outputs": [],
   "source": [
    "crimes = ['LARCENY','LARCENY FROM AUTO', 'AUTO THEFT','SHOOTING','ROBBERY - CARJACKING']\n",
    "crimes_ts = df[crimes].copy()\n",
    "crimes_ts.head()\n",
    "\n"
   ]
  },
  {
   "cell_type": "code",
   "execution_count": null,
   "id": "be56dd6a-c9bc-4326-80b6-932e072aba77",
   "metadata": {},
   "outputs": [],
   "source": [
    "crimes_ts.isna().sum()\n",
    "\n"
   ]
  },
  {
   "cell_type": "code",
   "execution_count": null,
   "id": "805a6ac7-3985-43c7-a230-098b8770ba71",
   "metadata": {},
   "outputs": [],
   "source": [
    "## fill null values with 0\n",
    "crimes_ts = crimes_ts.fillna(0)\n",
    "crimes_ts\n",
    "\n"
   ]
  },
  {
   "cell_type": "code",
   "execution_count": null,
   "id": "e29d3fe9-8698-4bf9-8161-3cb4e757fa56",
   "metadata": {},
   "outputs": [],
   "source": [
    "crimes_ts.plot(grid=True,alpha=0.7);\n",
    "\n"
   ]
  },
  {
   "cell_type": "code",
   "execution_count": null,
   "id": "25336853-bde5-4cc1-be61-1efa52006932",
   "metadata": {},
   "outputs": [],
   "source": [
    "plot_df = crimes_ts.loc['2017':'2021']\n",
    "plot_df.plot(grid=True);\n",
    "\n"
   ]
  },
  {
   "cell_type": "code",
   "execution_count": null,
   "id": "ae53bb5a-65f2-4c01-9924-1cd8d8f9a653",
   "metadata": {},
   "outputs": [],
   "source": [
    "plot_df.plot(subplots=True,figsize=(10,12),grid=True);\n",
    "\n"
   ]
  },
  {
   "cell_type": "code",
   "execution_count": null,
   "id": "b60d6890-80a0-41f8-a7d9-8e034112fade",
   "metadata": {},
   "outputs": [],
   "source": [
    "plot_df_W = crimes_ts.loc['2017':'2021'].resample('W').sum()\n",
    "plot_df_W.plot(grid=True,subplots=True,figsize=(10,15));\n",
    "\n"
   ]
  },
  {
   "cell_type": "code",
   "execution_count": null,
   "id": "009b49a7-fdc2-40e7-986f-5628583285eb",
   "metadata": {},
   "outputs": [],
   "source": [
    "plot_df_W.rolling(4).mean().dropna().plot(subplots=True,figsize=(10,12));\n",
    "\n"
   ]
  },
  {
   "cell_type": "code",
   "execution_count": null,
   "id": "4edbd250-db23-4b20-a07d-a11e6c05b945",
   "metadata": {},
   "outputs": [],
   "source": [
    "# import the statsmodels time series analysis api module\n",
    "import statsmodels.tsa.api as tsa\n",
    "tsa\n",
    "\n"
   ]
  },
  {
   "cell_type": "code",
   "execution_count": null,
   "id": "46c95762-195a-414d-b348-263129c290f8",
   "metadata": {},
   "outputs": [],
   "source": [
    "crime_type = \"LARCENY FROM AUTO\"\n",
    "ts = plot_df_W[crime_type]\n",
    "ts.plot(title=crime_type)\n"
   ]
  },
  {
   "cell_type": "code",
   "execution_count": null,
   "id": "8dcac3a6-38f3-4a6f-9b0d-095db21e9465",
   "metadata": {},
   "outputs": [],
   "source": [
    "decomp = tsa.seasonal_decompose(ts)\n",
    "decomp\n",
    "\n"
   ]
  },
  {
   "cell_type": "code",
   "execution_count": null,
   "id": "ef7e7e42-a99c-4a86-b0fd-47535ad78f84",
   "metadata": {},
   "outputs": [],
   "source": [
    "fig = decomp.plot()\n",
    "\n"
   ]
  },
  {
   "cell_type": "code",
   "execution_count": null,
   "id": "ed4f627b-a3f5-496e-8707-776ab8272a70",
   "metadata": {},
   "outputs": [],
   "source": [
    "fig = decomp.plot()\n",
    "fig.set_size_inches(10,8)\n",
    "fig.tight_layout()\n",
    "\n"
   ]
  },
  {
   "cell_type": "code",
   "execution_count": null,
   "id": "591e0041-f079-49c4-8751-134c56bb1d2f",
   "metadata": {},
   "outputs": [],
   "source": [
    "decomp.trend\n",
    "\n"
   ]
  },
  {
   "cell_type": "code",
   "execution_count": null,
   "id": "840127d1-a274-4204-8de7-4042a20154c2",
   "metadata": {},
   "outputs": [],
   "source": [
    "decomp.trend.plot(title='Trend');\n",
    "\n"
   ]
  },
  {
   "cell_type": "code",
   "execution_count": null,
   "id": "c142535a-18e9-42fe-bef7-0261e96d6492",
   "metadata": {},
   "outputs": [],
   "source": [
    "decomp.seasonal.head()\n",
    "\n"
   ]
  },
  {
   "cell_type": "code",
   "execution_count": null,
   "id": "fc0d3ed4-addd-4995-94de-d689292e641c",
   "metadata": {},
   "outputs": [],
   "source": [
    "decomp.seasonal.plot(title='Seasonal');\n",
    "\n"
   ]
  },
  {
   "cell_type": "code",
   "execution_count": null,
   "id": "43093a9e-df94-42f4-88a4-8f5a7c8ab210",
   "metadata": {},
   "outputs": [],
   "source": [
    "decomp.resid.head()\n",
    "\n"
   ]
  },
  {
   "cell_type": "code",
   "execution_count": null,
   "id": "633b9f9a-4f65-4bc3-85fc-3864abf5d35c",
   "metadata": {},
   "outputs": [],
   "source": [
    "decomp.resid.plot(title='Residual');\n",
    "\n"
   ]
  },
  {
   "cell_type": "code",
   "execution_count": null,
   "id": "7916d27f-9f32-487b-8bc1-ff3248be437a",
   "metadata": {},
   "outputs": [],
   "source": [
    "# Adding decomposition components together\n",
    "ts_model = decomp.trend + decomp.seasonal + decomp.resid\n",
    "# Visualize the result\n",
    "ax = ts_model.plot(label='Recombined from Decomposition')\n",
    "ax.legend()\n"
   ]
  },
  {
   "cell_type": "code",
   "execution_count": null,
   "id": "18b11d49-acf1-4120-975a-c0155107b652",
   "metadata": {},
   "outputs": [],
   "source": [
    "ax = ts.plot(label='Original, Raw')\n",
    "ts_model.plot(label='Recombined from Decomposition',ax=ax, ls='--', alpha=0.8)\n",
    "ax.legend();\n",
    "\n"
   ]
  },
  {
   "cell_type": "code",
   "execution_count": null,
   "id": "c0e970f8-495c-4595-bf50-c31f5e187f13",
   "metadata": {},
   "outputs": [],
   "source": [
    "seasonal = decomp.seasonal\n",
    "ax = seasonal.plot(title=f'Seasonal Component for {crime_type}');\n",
    "ax.grid(which='both', axis='x')\n",
    "\n"
   ]
  },
  {
   "cell_type": "code",
   "execution_count": null,
   "id": "188303a2-5ead-427c-9874-694470501b6a",
   "metadata": {},
   "outputs": [],
   "source": [
    "import matplotlib.dates as mdates\n",
    "minor_loc = mdates.MonthLocator()\n",
    "fig, ax = plt.subplots()\n",
    "ax.plot(seasonal)\n",
    "ax.set(title=f'Seasonal Component for {crime_type}');\n",
    "ax.xaxis.set_minor_locator(minor_loc)\n",
    "ax.grid(which='major', axis='x',lw=1, color='k')\n",
    "ax.grid(which='minor',axis='x',lw=0.5)\n",
    "fig.autofmt_xdate(rotation=90, ha='center')\n",
    "\n"
   ]
  },
  {
   "cell_type": "code",
   "execution_count": null,
   "id": "15ed5770-b321-469f-aa6d-3ce0b6694077",
   "metadata": {},
   "outputs": [],
   "source": [
    "seasonal.max()\n",
    "\n"
   ]
  },
  {
   "cell_type": "code",
   "execution_count": null,
   "id": "117585bd-1b9d-4ee2-9a8a-90f53564f540",
   "metadata": {},
   "outputs": [],
   "source": [
    "seasonal.min()\n",
    "\n"
   ]
  },
  {
   "cell_type": "code",
   "execution_count": null,
   "id": "a7aec2b8-57bc-4968-89d1-fc8ccfbd62c8",
   "metadata": {},
   "outputs": [],
   "source": [
    "magnitude = seasonal.max() - seasonal.min()\n",
    "magnitude\n",
    "\n"
   ]
  },
  {
   "cell_type": "code",
   "execution_count": null,
   "id": "51f0b573-8a93-40ae-9428-ec85f0c2611c",
   "metadata": {},
   "outputs": [],
   "source": [
    "seasonal.idxmax()\n",
    "\n"
   ]
  },
  {
   "cell_type": "code",
   "execution_count": null,
   "id": "9728624b-3afb-49e3-9719-741358ab246b",
   "metadata": {},
   "outputs": [],
   "source": [
    "seasonal.idxmin()\n",
    "\n"
   ]
  },
  {
   "cell_type": "code",
   "execution_count": null,
   "id": "ec41de6d-11f4-46f9-a6c0-f8cc64fd428b",
   "metadata": {},
   "outputs": [],
   "source": [
    "import matplotlib.dates as mdates\n",
    "def plot_seasonal(seasonal):\n",
    "    minor_loc = mdates.MonthLocator()\n",
    "    fig, ax = plt.subplots()\n",
    "    ax.plot(seasonal)\n",
    "    ax.set(title=f'Seasonal Component for {crime_type}');\n",
    "    ax.xaxis.set_minor_locator(minor_loc)\n",
    "    ax.grid(which='major', axis='x',lw=1, color='k')\n",
    "    ax.grid(which='minor',axis='x',lw=0.5)\n",
    "    fig.autofmt_xdate(rotation=90, ha='center')\n",
    "    \n",
    "    return fig, ax\n",
    "\n"
   ]
  },
  {
   "cell_type": "code",
   "execution_count": null,
   "id": "a80a46b1-d6a4-4780-b85f-a4d539b6c996",
   "metadata": {},
   "outputs": [],
   "source": [
    "fig, ax = plot_seasonal(seasonal)\n",
    "ax.axvspan(seasonal.idxmin(),seasonal.idxmax(), color='lightgreen');\n",
    "\n"
   ]
  },
  {
   "cell_type": "code",
   "execution_count": null,
   "id": "a85b9f4a-612c-44ac-b2c1-08024802b6fb",
   "metadata": {},
   "outputs": [],
   "source": [
    "delta = seasonal.idxmax() - seasonal.idxmin()\n",
    "delta\n",
    "\n"
   ]
  },
  {
   "cell_type": "code",
   "execution_count": null,
   "id": "b5532345-5232-4e2a-a5eb-a5174889f020",
   "metadata": {},
   "outputs": [],
   "source": [
    "from scipy.signal import find_peaks\n",
    "peaks, props = find_peaks(seasonal, height=seasonal.max())\n"
   ]
  },
  {
   "cell_type": "code",
   "execution_count": null,
   "id": "62114522-8ef9-4124-8e0a-f3735ab2a5f3",
   "metadata": {},
   "outputs": [],
   "source": [
    "peaks\n",
    "\n"
   ]
  },
  {
   "cell_type": "code",
   "execution_count": null,
   "id": "34f13758-0f3b-493b-b874-c430251cbf77",
   "metadata": {},
   "outputs": [],
   "source": [
    "props\n",
    "\n"
   ]
  },
  {
   "cell_type": "code",
   "execution_count": null,
   "id": "e13437af-8d30-4775-b367-f517f23ef564",
   "metadata": {},
   "outputs": [],
   "source": [
    "peak_dates = seasonal.index[peaks]\n",
    "peak_dates\n",
    "\n"
   ]
  },
  {
   "cell_type": "code",
   "execution_count": null,
   "id": "18cf1987-3c13-4348-8958-6c5ab39d63cd",
   "metadata": {},
   "outputs": [],
   "source": [
    "fig,ax = plot_seasonal(seasonal)\n",
    "ax.scatter(peak_dates, props['peak_heights'], color='orange');\n",
    "\n"
   ]
  },
  {
   "cell_type": "code",
   "execution_count": null,
   "id": "81a8c0ab-165a-4a50-8e14-061bd732b5f2",
   "metadata": {},
   "outputs": [],
   "source": [
    "peak_dates\n",
    "\n"
   ]
  },
  {
   "cell_type": "code",
   "execution_count": null,
   "id": "bf425166-8210-44e8-8607-b8a40448b9fd",
   "metadata": {},
   "outputs": [],
   "source": [
    "period = peak_dates[1] - peak_dates[0]\n",
    "period\n",
    "\n"
   ]
  },
  {
   "cell_type": "code",
   "execution_count": null,
   "id": "2599f042-4054-4645-a0ad-37eca9f20bcf",
   "metadata": {},
   "outputs": [],
   "source": [
    "periods = []\n",
    "for i in range(len(peak_dates)-1):\n",
    "    delta = peak_dates[i+1] - peak_dates[i]\n",
    "    periods.append(delta)\n",
    "periods\n",
    "\n"
   ]
  },
  {
   "cell_type": "code",
   "execution_count": null,
   "id": "a743a4e9-4db9-4422-9d99-5424c400bc6a",
   "metadata": {},
   "outputs": [],
   "source": [
    "fig, ax = plot_seasonal(seasonal)\n",
    "season_start = seasonal.idxmin()\n",
    "ax.axvspan( season_start, season_start +period, color='lightgreen')\n",
    "ax.axvline(season_start, color='green', ls='--',\n",
    "           label=f\"Start of Season {season_start.strftime('%B')}\")\n",
    "ax.legend();\n"
   ]
  },
  {
   "cell_type": "code",
   "execution_count": null,
   "id": "f054ce8d-95aa-4539-bc87-40593c96d963",
   "metadata": {},
   "outputs": [],
   "source": [
    "seasonal.max() - seasonal.min()\n",
    "\n"
   ]
  },
  {
   "cell_type": "code",
   "execution_count": null,
   "id": "3af408e5-7689-4129-80da-f9806c63095f",
   "metadata": {},
   "outputs": [],
   "source": []
  },
  {
   "cell_type": "markdown",
   "id": "7dfcc636-26c5-4471-bdd5-6e82f1550daf",
   "metadata": {},
   "source": [
    "# Feature Engineering - Holidays"
   ]
  },
  {
   "cell_type": "code",
   "execution_count": null,
   "id": "e96ea9d5-4964-46f9-9826-4edb8170143b",
   "metadata": {},
   "outputs": [],
   "source": [
    "!pip install holidays\n"
   ]
  },
  {
   "cell_type": "code",
   "execution_count": null,
   "id": "2f00cd20-a5c2-48cc-b166-c29ad9e214f2",
   "metadata": {},
   "outputs": [],
   "source": [
    "import holidays\n",
    "import datetime as dt\n",
    "from holidays import country_holidays\n",
    "\n"
   ]
  },
  {
   "cell_type": "code",
   "execution_count": null,
   "id": "b6d122ab-8c8a-4b1f-821d-db4bc8aab7f6",
   "metadata": {},
   "outputs": [],
   "source": [
    "## making a date range that covers full dataset\n",
    "all_days = pd.date_range(df[\"Date\"].min(), df[\"Date\"].max())\n",
    "all_days\n",
    "\n"
   ]
  },
  {
   "cell_type": "code",
   "execution_count": null,
   "id": "5edcb633-3ff9-4c08-a98a-3ee74fa76e05",
   "metadata": {},
   "outputs": [],
   "source": [
    "## Create an instance of the US country holidays.\n",
    "us_holidays = country_holidays('US')\n",
    "us_holidays\n",
    "\n"
   ]
  },
  {
   "cell_type": "code",
   "execution_count": null,
   "id": "f9abbbd1-bb19-4e3d-b887-f81c3cfdef72",
   "metadata": {},
   "outputs": [],
   "source": [
    "## Testing first date\n",
    "print(all_days[0])\n",
    "us_holidays.get(all_days[0])\n",
    "\n"
   ]
  },
  {
   "cell_type": "code",
   "execution_count": null,
   "id": "442a0c4a-e4a3-4220-99a7-b8c174b06374",
   "metadata": {},
   "outputs": [],
   "source": [
    "## Getting us holidays for all dates\n",
    "holiday_list = [us_holidays.get(day) for day in all_days]\n",
    "holiday_list[:5]\n",
    "\n"
   ]
  },
  {
   "cell_type": "code",
   "execution_count": null,
   "id": "e357d7e7-47e1-4686-8954-22fc8259c87d",
   "metadata": {},
   "outputs": [],
   "source": [
    "# For a specific subdivisions (e.g. state or province):\n",
    "md_holidays = country_holidays('US', subdiv='MD')\n",
    "md_holidays\n",
    "\n"
   ]
  },
  {
   "cell_type": "code",
   "execution_count": null,
   "id": "32638119-f5df-47a2-8d4b-aade46788db4",
   "metadata": {},
   "outputs": [],
   "source": [
    "## Saving both holiday types as columns\n",
    "df[\"US Holiday\"] = [us_holidays.get(day) for day in df['Date']]\n",
    "df['MD Holiday'] = [md_holidays.get(day) for day in df['Date']]\n",
    "df.head()\n",
    "\n"
   ]
  },
  {
   "cell_type": "code",
   "execution_count": null,
   "id": "3bc55153-3f3b-473e-a5fb-577ad647b6d3",
   "metadata": {},
   "outputs": [],
   "source": [
    "## US Holidays\n",
    "df['US Holiday'].value_counts()\n",
    "\n"
   ]
  },
  {
   "cell_type": "code",
   "execution_count": null,
   "id": "71e61710-2b10-4cbf-9429-8486bddde912",
   "metadata": {},
   "outputs": [],
   "source": [
    "## MD Holidays\n",
    "df['MD Holiday'].value_counts()\n",
    "\n"
   ]
  },
  {
   "cell_type": "code",
   "execution_count": null,
   "id": "3b165544-3c4f-47c1-82a2-7dab1ff7133b",
   "metadata": {},
   "outputs": [],
   "source": [
    "ax = sns.barplot(data=df, x='US Holiday',y='Total_Incidents',estimator=np.sum)\n",
    "ax.set_xticklabels(ax.get_xticklabels(),rotation=45, ha='right');\n",
    "\n"
   ]
  },
  {
   "cell_type": "code",
   "execution_count": null,
   "id": "d31d4985-62b7-4d10-b589-a1059e972149",
   "metadata": {},
   "outputs": [],
   "source": [
    "## Saving a binary is holiday feature\n",
    "df['Is_Holiday'] = df['US Holiday'].notna()\n",
    "df['Is_Holiday'].value_counts()\n",
    "\n"
   ]
  },
  {
   "cell_type": "code",
   "execution_count": null,
   "id": "5b1703e0-7630-477f-a31e-cbe5c6bbd4ef",
   "metadata": {},
   "outputs": [],
   "source": []
  },
  {
   "cell_type": "markdown",
   "id": "85259138-fe46-4279-832b-03d011a1be6b",
   "metadata": {},
   "source": [
    "# Stakeholder Questions"
   ]
  },
  {
   "cell_type": "code",
   "execution_count": null,
   "id": "c906ac46-6fee-461f-becf-724cb90db5c4",
   "metadata": {},
   "outputs": [],
   "source": [
    "## Get # of crimes by Hour\n",
    "crimes_by_hour = df.groupby('Description')['HourOfDay'].value_counts().sort_index()\n",
    "crimes_by_hour\n",
    "\n"
   ]
  },
  {
   "cell_type": "code",
   "execution_count": null,
   "id": "232b9a14-990f-434c-b421-8a8cf21847e8",
   "metadata": {},
   "outputs": [],
   "source": [
    "crimes_by_hour.plot();\n",
    "\n"
   ]
  },
  {
   "cell_type": "code",
   "execution_count": null,
   "id": "4bab9ee3-bfd1-40bd-baa2-1ee192d5cc70",
   "metadata": {},
   "outputs": [],
   "source": [
    "## convert to dataframe and reset_index()\n",
    "plot_df = crimes_by_hour.to_frame('# of Crimes').reset_index()\n",
    "plot_df\n",
    "\n"
   ]
  },
  {
   "cell_type": "code",
   "execution_count": null,
   "id": "56f13501-e06e-422a-8612-d00eb937b1c6",
   "metadata": {},
   "outputs": [],
   "source": [
    "ax = sns.lineplot(data=plot_df, x='HourOfDay',y='# of Crimes')\n",
    "\n"
   ]
  },
  {
   "cell_type": "code",
   "execution_count": null,
   "id": "bfce5bcb-0061-4093-b2ac-0d850bce045d",
   "metadata": {},
   "outputs": [],
   "source": [
    "fig, ax = plt.subplots(figsize=(12,6))\n",
    "sns.lineplot(data=plot_df, x='HourOfDay',y='# of Crimes',markers=True,\n",
    "                  hue='Description',ax=ax,)\n",
    "ax.legend(bbox_to_anchor=[1,1]);\n"
   ]
  },
  {
   "cell_type": "code",
   "execution_count": null,
   "id": "a29dd358-0783-4cae-bfcc-43e624d72913",
   "metadata": {},
   "outputs": [],
   "source": [
    "g = sns.catplot(data=plot_df, x='HourOfDay', y='# of Crimes',\n",
    "                kind='point',aspect=2, height=4,\n",
    "                hue='Description', col='Description',col_wrap=2,\n",
    "               sharey=False, sharex=False)\n",
    "[ax.grid(axis='x') for ax in g.axes];\n",
    "\n"
   ]
  },
  {
   "cell_type": "code",
   "execution_count": null,
   "id": "b7b644fe-4f7f-4cbe-83d3-e59658cee3de",
   "metadata": {},
   "outputs": [],
   "source": [
    "crime_perc_by_hour = df.groupby('Description')['HourOfDay'].value_counts(normalize=True).sort_index()\n",
    "crime_perc_by_hour\n",
    "\n"
   ]
  },
  {
   "cell_type": "code",
   "execution_count": null,
   "id": "83e2dc2e-d860-44b8-a96d-18013a38fbad",
   "metadata": {},
   "outputs": [],
   "source": [
    "## Convert to dataframe and reset index\n",
    "plot_df_perc = crime_perc_by_hour.to_frame('# of Crimes').reset_index()\n",
    "plot_df_perc\n",
    "\n"
   ]
  },
  {
   "cell_type": "code",
   "execution_count": null,
   "id": "e9fa5c60-fe1f-4044-b7b9-62c9a3c1bbc9",
   "metadata": {},
   "outputs": [],
   "source": [
    "g = sns.(data=plot_df_perc, x='HourOfDay', y='# of Crimes',\n",
    "                hue='Description', col='Description',col_wrap=2,\n",
    "            aspect=2, height=4,\n",
    "           kind='point',sharey=False,sharex=False);\n",
    "[ax.grid(axis='x') for ax in g.axes];\n",
    "\n"
   ]
  },
  {
   "cell_type": "code",
   "execution_count": null,
   "id": "77960bb8-d6c3-42c5-84ec-088ac2b439a3",
   "metadata": {},
   "outputs": [],
   "source": [
    "# looping through the value counts series\n",
    "val_counts_by_hour = df.groupby('Description')['HourOfDay'].value_counts()\n",
    "val_counts_by_hour\n",
    "\n"
   ]
  },
  {
   "cell_type": "code",
   "execution_count": null,
   "id": "49e255b5-021b-4687-b94a-cc19cfd1f3c6",
   "metadata": {},
   "outputs": [],
   "source": [
    "## Getting all of the crimes from the first level of the index\n",
    "crime_list = val_counts_by_hour.index.levels[0]\n",
    "crime_list\n",
    "\n"
   ]
  },
  {
   "cell_type": "code",
   "execution_count": null,
   "id": "1c482c59-7905-4f2d-a191-00e6ccaf77a6",
   "metadata": {},
   "outputs": [],
   "source": [
    "##selecting a test crime and slicing the result\n",
    "crime='HOMICIDE'\n",
    "val_counts_by_hour.loc[crime]\n",
    "\n"
   ]
  },
  {
   "cell_type": "code",
   "execution_count": null,
   "id": "4be2552d-2f49-45c4-b09d-4ace8957100a",
   "metadata": {},
   "outputs": [],
   "source": [
    "## getting min and max values\n",
    "val_counts_by_hour.loc[crime].agg(['min','max'])\n",
    "\n"
   ]
  },
  {
   "cell_type": "code",
   "execution_count": null,
   "id": "5364d9ce-298c-4780-975d-9b9b043998ce",
   "metadata": {},
   "outputs": [],
   "source": [
    "##  Getting indices for min and max\n",
    "val_counts_by_hour.loc[crime].agg(['idxmin','idxmax'])\n",
    "\n"
   ]
  },
  {
   "cell_type": "code",
   "execution_count": null,
   "id": "53268bd7-2c60-4ab8-b148-07e4a2d904e9",
   "metadata": {},
   "outputs": [],
   "source": [
    "g = sns.catplot(data=plot_df_perc, x='HourOfDay', y='# of Crimes',\n",
    "                hue='Description', col='Description',col_wrap=2,\n",
    "            aspect=2, height=4,\n",
    "           kind='point',sharey=False,sharex=False);\n",
    "## loop throught the axes dict\n",
    "for col, ax in g.axes_dict.items():\n",
    "    \n",
    "    ## Extract the idx min and idxmax from the val counts\n",
    "    min_, max_ = val_counts_by_hour.loc[col].agg(['idxmin','idxmax'])\n",
    "    \n",
    "    ## add vlines for both and SAVE THE LINE and a label to use in legend\n",
    "    ln1 = ax.axvline(min_, color='darkgreen',ls='--')\n",
    "    lab1 = f'Min(Hour={min_})'\n",
    "    \n",
    "    ln2 = ax.axvline(max_,color='darkred',ls='--')\n",
    "    lab2 = f'Max(Hour={max_})'\n",
    "    \n",
    "    ## manually add legend using list of ln1 and ln2 and a list of labels\n",
    "    ax.legend( [ln1,ln2], [lab1,lab2] )\n",
    "    ## add x grid\n",
    "    ax.grid(axis='x')\n",
    "    \n",
    "g.fig\n",
    "\n"
   ]
  },
  {
   "cell_type": "code",
   "execution_count": null,
   "id": "accdc306-a3df-4f10-b445-cb922041df7a",
   "metadata": {},
   "outputs": [],
   "source": [
    "crimes_by_month = df.groupby(\"Month\")['Description'].value_counts(normalize=False)\n",
    "crimes_by_month\n",
    "\n"
   ]
  },
  {
   "cell_type": "code",
   "execution_count": null,
   "id": "007a7a16-a9be-4f1f-9504-e082acfc5d11",
   "metadata": {},
   "outputs": [],
   "source": [
    "jan_dec_crimes = crimes_by_month.loc[1] + crimes_by_month.loc[12]\n",
    "jan_dec_crimes\n",
    "\n"
   ]
  },
  {
   "cell_type": "code",
   "execution_count": null,
   "id": "2078fb54-5d40-4ef0-bd4f-549d2bbdb8e6",
   "metadata": {},
   "outputs": [],
   "source": [
    "ax = jan_dec_crimes.sort_values().plot(kind='barh',figsize=(6,6))\n",
    "ax.set(title='Most Common Crimes for Dec+Jan',xlabel='# of Crimes');\n",
    "\n"
   ]
  },
  {
   "cell_type": "code",
   "execution_count": null,
   "id": "0497349a-8c30-4358-a78e-9d40c95d8370",
   "metadata": {},
   "outputs": [],
   "source": [
    "## First, resample the data as annual \n",
    "df_year  = df.groupby('Description').resample('A').sum()['Total_Incidents'].reset_index()\n",
    "df_year\n",
    "\n"
   ]
  },
  {
   "cell_type": "code",
   "execution_count": null,
   "id": "8e50d707-5b13-4311-8de8-9700d265417f",
   "metadata": {},
   "outputs": [],
   "source": [
    "## can pivot the result to have the datetime as the index and the crime as the columns\n",
    "years_ts = df_year.pivot(index='CrimeDateTime',columns='Description')\n",
    "years_ts.head()\n",
    "\n"
   ]
  },
  {
   "cell_type": "code",
   "execution_count": null,
   "id": "59c07c5c-7eb4-432a-90d0-2fd444492bf1",
   "metadata": {},
   "outputs": [],
   "source": [
    "years_ts.columns\n",
    "\n"
   ]
  },
  {
   "cell_type": "code",
   "execution_count": null,
   "id": "bfe793be-1cfc-40e6-a3d2-cfe889407831",
   "metadata": {},
   "outputs": [],
   "source": [
    "years_ts.columns = years_ts.columns.droplevel(0)\n",
    "years_ts.columns\n",
    "\n"
   ]
  },
  {
   "cell_type": "code",
   "execution_count": null,
   "id": "496dd929-7682-4919-806f-54f90e07dc31",
   "metadata": {},
   "outputs": [],
   "source": [
    "## Substract to get delta crmes\n",
    "delta_crime_yrs = years_ts.loc['2021'] - years_ts.loc['2018']\n",
    "delta_crime_yrs\n",
    "\n"
   ]
  },
  {
   "cell_type": "code",
   "execution_count": null,
   "id": "3eb65bfd-0d67-4a31-bcc8-c0a105ba3ccb",
   "metadata": {},
   "outputs": [],
   "source": [
    "### Substract to get delta crmes\n",
    "delta_crime_yrs = years_ts.loc['2021-12-31'] - years_ts.loc['2018-12-31']\n",
    "delta_crime_yrs\n",
    "\n"
   ]
  },
  {
   "cell_type": "code",
   "execution_count": null,
   "id": "30721771-b4ae-4e10-b551-dcbf777e2f02",
   "metadata": {},
   "outputs": [],
   "source": [
    "ax = delta_crime_yrs.sort_values().plot(kind='bar',figsize=(8,4),\n",
    "                                       ylabel='Change in # Crimes',\n",
    "                                       title='Change in Crimes from 2018-2021')\n",
    "ax.axhline(0,color='k');\n"
   ]
  },
  {
   "cell_type": "code",
   "execution_count": null,
   "id": "04afe673-66b2-4d2d-ac7c-da616c1b95fb",
   "metadata": {},
   "outputs": [],
   "source": [
    "## Substract to get delta crmes\n",
    "delta_crime_perc = (delta_crime_yrs/ years_ts.loc['2018-12-31'])*100\n",
    "delta_crime_perc.sort_values()\n",
    "\n"
   ]
  },
  {
   "cell_type": "code",
   "execution_count": null,
   "id": "af3d6dd3-dd3b-4905-92b7-69aca7d05937",
   "metadata": {},
   "outputs": [],
   "source": [
    "from matplotlib import ticker\n",
    "\n"
   ]
  },
  {
   "cell_type": "code",
   "execution_count": null,
   "id": "a7ec926b-8049-4b79-be6b-9553bd6a75cb",
   "metadata": {},
   "outputs": [],
   "source": [
    "ax = delta_crime_perc.sort_values().plot(kind='bar',figsize=(8,4),\n",
    "                                       ylabel='% Change in  Crimes',\n",
    "                                       title='% Change in Crimes from 2018-2021')\n",
    "ax.axhline(0,color='k');\n",
    "ax.yaxis.set_major_locator(ticker.MultipleLocator(10))\n",
    "ax.yaxis.set_minor_locator(ticker.MultipleLocator(5))\n",
    "\n"
   ]
  },
  {
   "cell_type": "code",
   "execution_count": null,
   "id": "429423c0-0f63-456a-9407-e3382bbe1bbb",
   "metadata": {},
   "outputs": [],
   "source": [
    "holiday_crimes = df.groupby('US Holiday')['Description'].value_counts()\n",
    "holiday_crimes = holiday_crimes.to_frame('# of Crimes')\n",
    "holiday_crimes\n",
    "\n"
   ]
  },
  {
   "cell_type": "code",
   "execution_count": null,
   "id": "1894f20c-b474-4124-b49c-bc2ca28ae3f0",
   "metadata": {},
   "outputs": [],
   "source": [
    "## checking the values of the index (outer index is level 0)\n",
    "holiday_crimes.index.levels[0]\n",
    "\n"
   ]
  },
  {
   "cell_type": "code",
   "execution_count": null,
   "id": "efdc60b5-66df-403b-9b3c-d6fcfce12466",
   "metadata": {},
   "outputs": [],
   "source": [
    "holiday_crimes.loc[\"New Year's Day\"]\n",
    "\n"
   ]
  },
  {
   "cell_type": "code",
   "execution_count": null,
   "id": "f0fda85c-9a02-442d-8661-7757e6b55649",
   "metadata": {},
   "outputs": [],
   "source": [
    "holiday_crimes.loc[\"New Year's Day (Observed)\"]\n",
    "\n"
   ]
  },
  {
   "cell_type": "code",
   "execution_count": null,
   "id": "fb332431-2aad-44b4-8014-ec795c3eacd6",
   "metadata": {},
   "outputs": [],
   "source": [
    "## let's try simply adding them\n",
    "holiday_crimes.loc[\"New Year's Day\"] + holiday_crimes.loc[\"New Year's Day (Observed)\"]\n",
    "\n"
   ]
  },
  {
   "cell_type": "code",
   "execution_count": null,
   "id": "a8183c01-c040-4162-b293-4f9e0f5ed52a",
   "metadata": {},
   "outputs": [],
   "source": [
    "temp = pd.concat([holiday_crimes.loc[\"New Year's Day\"],\n",
    "                  holiday_crimes.loc[\"New Year's Day (Observed)\"]],\n",
    "                 axis=1)\n",
    "temp\n",
    "\n"
   ]
  },
  {
   "cell_type": "code",
   "execution_count": null,
   "id": "6fa495cb-d9e2-4622-8cdd-f65d8d6b875c",
   "metadata": {},
   "outputs": [],
   "source": [
    "## get the .sum ACROSS columns (use axis=1)\n",
    "new_years_sum = temp.sum(axis=1)\n",
    "new_years_sum\n",
    "\n"
   ]
  },
  {
   "cell_type": "code",
   "execution_count": null,
   "id": "a01de7cc-a788-4b9a-9782-a461e0fcd06a",
   "metadata": {},
   "outputs": [],
   "source": [
    "ax = new_years_sum.sort_values().plot(kind='barh',figsize=(8,6))\n",
    "ax.set(title=\"New Years Day Crimes\", xlabel='# of Crimes');\n",
    "\n"
   ]
  },
  {
   "cell_type": "code",
   "execution_count": null,
   "id": "9a799c9e-3cc2-41a0-8f1f-329c7a188893",
   "metadata": {},
   "outputs": [],
   "source": [
    "daily_df = df.groupby('Description').resample('D').sum()['Total_Incidents'].reset_index()\n",
    "daily_df = daily_df.pivot(index='CrimeDateTime',columns='Description')\n",
    "daily_df.columns = daily_df.columns.droplevel(0)\n",
    "daily_df = daily_df.fillna(0)\n",
    "daily_df.head()\n"
   ]
  },
  {
   "cell_type": "code",
   "execution_count": null,
   "id": "39104cd0-ba9b-4e03-be3a-3d7207718adc",
   "metadata": {},
   "outputs": [],
   "source": [
    "## Let's calculate a total crime column\n",
    "daily_df['TOTAL CRIME'] = daily_df.sum(axis=1) \n",
    "daily_df.head()\n"
   ]
  },
  {
   "cell_type": "code",
   "execution_count": null,
   "id": "99ead779-759d-4f7c-8e02-a8354f218925",
   "metadata": {},
   "outputs": [],
   "source": [
    "## making our holiday instance again\n",
    "us_holidays = country_holidays('US')\n",
    "us_holidays\n",
    "\n"
   ]
  },
  {
   "cell_type": "code",
   "execution_count": null,
   "id": "8ce1c79f-8508-4e59-8662-5515eabcfc7c",
   "metadata": {},
   "outputs": [],
   "source": [
    "## adding day of week and holiday features to daily_df\n",
    "daily_df['DayOfWeek'] = daily_df.index.day_name()\n",
    "daily_df['Holiday']  = daily_df.index.map(us_holidays.get)\n",
    "daily_df[\"Holiday\"] = daily_df[\"Holiday\"].fillna(\"None\")\n",
    "daily_df.head()\n",
    "\n"
   ]
  },
  {
   "cell_type": "code",
   "execution_count": null,
   "id": "c009701c-1d18-4e8b-a7e1-2f248d81451f",
   "metadata": {},
   "outputs": [],
   "source": [
    "## Making filters for group conditions\n",
    "is_thanks = daily_df['Holiday'].str.contains('thanksgiving',case=False)\n",
    "daily_df.loc[is_thanks]\n",
    "\n"
   ]
  },
  {
   "cell_type": "code",
   "execution_count": null,
   "id": "205cfa82-13b1-46c1-b795-717196af6a40",
   "metadata": {},
   "outputs": [],
   "source": [
    "is_thurs = daily_df['DayOfWeek']=='Thursday'\n",
    "daily_df.loc[is_thurs & ~is_thanks]\n",
    "\n"
   ]
  },
  {
   "cell_type": "code",
   "execution_count": null,
   "id": "f0cc5da9-f957-4f7d-8103-99ce382c6c8e",
   "metadata": {},
   "outputs": [],
   "source": [
    "## copying our dataframe for the vis\n",
    "plot_df = daily_df.copy()\n",
    "## using our filters and .loc to fill in a new \"Group\" col\n",
    "plot_df.loc[is_thanks, 'Group'] = 'Thanksgiving'\n",
    "plot_df.loc[~is_thanks & is_thurs, 'Group'] = 'Other Thursday'\n",
    "plot_df['Group'].value_counts(dropna=False)\n",
    "\n"
   ]
  },
  {
   "cell_type": "code",
   "execution_count": null,
   "id": "f04758fa-93b4-4192-b6a5-a636770bcbbc",
   "metadata": {},
   "outputs": [],
   "source": [
    "ax = sns.barplot(data=plot_df, x='Group', y='TOTAL CRIME');\n",
    "\n"
   ]
  }
 ],
 "metadata": {
  "kernelspec": {
   "display_name": "Python (dojo-env)",
   "language": "python",
   "name": "dojo-env"
  },
  "language_info": {
   "codemirror_mode": {
    "name": "ipython",
    "version": 3
   },
   "file_extension": ".py",
   "mimetype": "text/x-python",
   "name": "python",
   "nbconvert_exporter": "python",
   "pygments_lexer": "ipython3",
   "version": "3.10.10"
  }
 },
 "nbformat": 4,
 "nbformat_minor": 5
}

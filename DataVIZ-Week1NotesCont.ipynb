{
 "cells": [
  {
   "cell_type": "code",
   "execution_count": null,
   "id": "66e35dcc-ebf5-46c6-b15b-40696c897ec3",
   "metadata": {},
   "outputs": [],
   "source": [
    "#Shift+tab = documentation\n",
    "#Tab = Auto-complete"
   ]
  },
  {
   "cell_type": "code",
   "execution_count": null,
   "id": "85100858-e5a0-45cf-a880-470ff6aa3cf4",
   "metadata": {},
   "outputs": [],
   "source": []
  }
 ],
 "metadata": {
  "kernelspec": {
   "display_name": "Python (dojo-env)",
   "language": "python",
   "name": "dojo-env"
  },
  "language_info": {
   "codemirror_mode": {
    "name": "ipython",
    "version": 3
   },
   "file_extension": ".py",
   "mimetype": "text/x-python",
   "name": "python",
   "nbconvert_exporter": "python",
   "pygments_lexer": "ipython3",
   "version": "3.10.10"
  }
 },
 "nbformat": 4,
 "nbformat_minor": 5
}
